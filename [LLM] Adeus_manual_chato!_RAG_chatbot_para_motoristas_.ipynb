{
  "nbformat": 4,
  "nbformat_minor": 0,
  "metadata": {
    "colab": {
      "provenance": []
    },
    "kernelspec": {
      "name": "python3",
      "display_name": "Python 3"
    },
    "language_info": {
      "name": "python"
    }
  },
  "cells": [
    {
      "cell_type": "markdown",
      "source": [
        "\n",
        "# Projeto NLP: Adeus manual chato! RAG chatbot para motoristas.\n",
        "\n",
        "🎯 **Objetivo:**  criar um assistente de carro que explique avisos do painel e recomende ações durante a condução, desenvolvendo um chatbot com reconhecimento de contexto. Esse chatbot será integrado ao manual do carro por meio de um LLM, utilizando LangChain e a técnica de Geração Aumentada por Recuperação (RAG) para fornecer respostas precisas e contextuais. Diga adeus aos manuais chatos!\n",
        "\n",
        "🔗**Fonte:** Esse projeto foi proposto pela trilha de aprendizados do DataCamp sobre aplicativos LLM com LangChain\n",
        "\n",
        "📰 **Dados:** Manual adaptado do MG ZS, um SUV compacto, armazenado como um arquivo HTML nomeado como `mg-zs-warning-messages.html`.\n",
        "\n",
        "🔢 **Passos:**\n",
        "0. Preparativos iniciais\n",
        "1. Divisão do documento\n",
        "2. Armazenamento das representações vetoriais (embeddings)\n",
        "3. Criação do recuperador\n",
        "4. Definindo o modelo LLM e o prompt template\n",
        "5. Definindo a cadeia RAG\n",
        "6. Executando a cadeia RAG\n",
        "\n",
        "\n",
        "🛠️ **Detalhes técnicos:** Python, LLM, LangChain, OpenAI, Chroma, RAG.\n"
      ],
      "metadata": {
        "id": "LAjmtoi4_Fhk"
      }
    },
    {
      "cell_type": "markdown",
      "source": [
        "____\n",
        "\n",
        "## 0. Preparativos iniciais\n",
        "\n",
        "Para iniciar o projeto, é preciso obter uma conta de **desenvolvedor com a OpenAI** e **criar uma chave API** como uma variável de ambiente segura e **atualizar as bibliotecas** necessárias. As instruções para esses passos estão descritas abaixo.\n",
        "\n",
        "*  Crie uma conta de desenvolvedor com a OpenAI:\n",
        "  1. Vá para a página de [inscrição na API](https://platform.openai.com/).\n",
        "  2. Crie sua conta (você precisará fornecer seu endereço de e-mail e seu número de telefone).\n",
        "  3. Vá para a [página de chaves API](https://platform.openai.com/settings/profile?tab=api-keys).\n",
        "  4. Crie uma nova chave secreta. (As vezes é preciso pagar)\n",
        "  5. Faça uma cópia dela.\n",
        "\n",
        "* Atualizar as bibliotecas\n"
      ],
      "metadata": {
        "id": "7JlRr_7CR9hC"
      }
    },
    {
      "cell_type": "code",
      "source": [
        "import subprocess\n",
        "import pkg_resources"
      ],
      "metadata": {
        "id": "lwPnD7lQSrvX"
      },
      "execution_count": 1,
      "outputs": []
    },
    {
      "cell_type": "code",
      "source": [
        "def install_if_needed(package, version):\n",
        "    '''Função para garantir que o pacote especificado esteja instalado com a versão necessária.'''\n",
        "    try:\n",
        "        # Verifique se o pacote está instalado e qual a sua versão\n",
        "        pkg = pkg_resources.get_distribution(package)\n",
        "        if pkg.version != version:\n",
        "            # Se a versão não corresponder, desinstale a versão existente e instale a versão correta\n",
        "            subprocess.check_call([\"pip\", \"install\", f\"{package}=={version}\"])\n",
        "    except pkg_resources.DistributionNotFound:\n",
        "        # Se o pacote não for encontrado, instale a versão necessária\n",
        "        subprocess.check_call([\"pip\", \"install\", f\"{package}=={version}\"])\n",
        "    except pkg_resources.VersionConflict as e:\n",
        "        print(f\"Version conflict: {e}\")\n",
        "\n",
        "# Primeiro, trate o problema da versão do `tenacity`\n",
        "try:\n",
        "    subprocess.check_call([\"pip\", \"uninstall\", \"-y\", \"tenacity\"])\n",
        "    subprocess.check_call([\"pip\", \"install\", \"tenacity==8.2.2\"])\n",
        "    subprocess.check_call([\"pip\", \"install\", \"--force-reinstall\", \"tenacity==8.2.2\"])\n",
        "except subprocess.CalledProcessError as e:\n",
        "    print(f\"Erro durante a instalação do `tenacity`: {e}\")\n",
        "\n",
        "# Em seguida, instale os outros pacotes\n",
        "install_if_needed(\"langchain\", \"0.2.2\")\n",
        "install_if_needed(\"langchain-openai\", \"0.1.8\")\n",
        "install_if_needed(\"langchain-community\", \"0.2.3\")\n",
        "install_if_needed(\"unstructured\", \"0.14.4\")\n",
        "install_if_needed(\"chromadb\", \"0.5.0\")\n",
        "install_if_needed(\"python-dotenv\", \"1.0.1\")"
      ],
      "metadata": {
        "id": "f18sp40YMbJA"
      },
      "execution_count": 5,
      "outputs": []
    },
    {
      "cell_type": "code",
      "source": [
        "# Definindo a chave API em uma variável\"\n",
        "import os\n",
        "from dotenv import load_dotenv\n",
        "\n",
        "load_dotenv('/content/token.env')\n",
        "\n",
        "os.environ[\"OPENAI_API_KEY\"] = os.getenv(\"OPENAI_API_KEY\")\n",
        "\n",
        "# Importando as bibliotecas necessárias\n",
        "import langchain\n",
        "from langchain import PromptTemplate\n",
        "from langchain_openai import ChatOpenAI\n",
        "from langchain.document_loaders import UnstructuredHTMLLoader\n",
        "from langchain_openai import OpenAIEmbeddings\n",
        "from langchain.schema.runnable import RunnablePassthrough\n",
        "from langchain.text_splitter import RecursiveCharacterTextSplitter\n",
        "from langchain.vectorstores import Chroma\n",
        "from langchain_community.document_loaders import UnstructuredHTMLLoader"
      ],
      "metadata": {
        "id": "PDVXwc0lNah9"
      },
      "execution_count": 6,
      "outputs": []
    },
    {
      "cell_type": "code",
      "execution_count": 7,
      "metadata": {
        "id": "3grv5yu8-xHw"
      },
      "outputs": [],
      "source": [
        "# Carregando o HTML como um load de documentos LangChain\n",
        "loader = UnstructuredHTMLLoader(file_path=\"/content/mg-zs-warning-messages.html\")\n",
        "car_docs = loader.load()\n",
        "\n",
        "\n"
      ]
    },
    {
      "cell_type": "markdown",
      "source": [
        "## 1. Divisão o documento\n",
        "\n",
        "Um processo fundamental na implementação do Retrieval Augmented Generation (RAG) é dividir os documentos em partes para armazenamento em um banco de dados vetorial.\n",
        "\n",
        "* **Divisor de texto de caracteres**: que divide documentos com base em caracteres e mede o comprimento do bloco pelo número de caracteres.\n",
        "\n",
        "* **Divisão recursiva por caracteres** : o texto é inicialmente dividido em grandes blocos e depois esses blocos são subdivididos em partes menores de acordo com um critério específico. Por exemplo, o texto é dividido em blocos de 1000 caracteres com uma sobreposição de 200 caracteres, preservando parte do contexto entre os segmentos"
      ],
      "metadata": {
        "id": "HkLd1VVnUmnq"
      }
    },
    {
      "cell_type": "code",
      "source": [
        "# Define variables\n",
        "chunk_size=1000\n",
        "chunk_overlap=200\n",
        "\n",
        "# Split the HTML\n",
        "splitter = RecursiveCharacterTextSplitter(\n",
        "    chunk_size = chunk_size,\n",
        "    chunk_overlap = chunk_overlap\n",
        ")\n",
        "\n",
        "\n",
        "\n",
        "# Split the document and print the chunks\n",
        "docs = splitter.split_documents(car_docs)\n",
        "print(docs)"
      ],
      "metadata": {
        "colab": {
          "base_uri": "https://localhost:8080/"
        },
        "id": "xzkotBnoWAEg",
        "outputId": "9bd35578-5764-4ea3-adb7-2277877b042f"
      },
      "execution_count": 61,
      "outputs": [
        {
          "output_type": "stream",
          "name": "stdout",
          "text": [
            "[Document(metadata={'source': '/content/mg-zs-warning-messages.html'}, page_content='Warning Message Procedure Cruise Control Fault Indicates that the cruise control system has detected a fault. Please consult an MG Authorised Repairer as soon as possible. Active Speed Limiter Fault Indicates that the active speed limit system has detected a fault. Contact an MG Authorised Repairer as soon as possible. Engine Coolant Temperature High High engine coolant temperature could result in severe damage. As soon as conditions permit, safely stop the vehicle and switch off the engine and contact an MG Authorised Repairer immediately. Engine Coolant Temperature Sensor Fault Indicates that the engine coolant temperature sensor has failed. As soon as conditions permit, safely stop the vehicle and switch off the engine and contact an MG Authorised Repairer immediately.'), Document(metadata={'source': '/content/mg-zs-warning-messages.html'}, page_content='Warning Message Procedure Low Oil Pressure Indicates that the oil pressure is too low, which may result in severe engine damage. As soon as safety permits, stop the car, switch off the engine and check the engine oil level. Contact an MG Authorised Repairer as soon as possible. Engine Fault Indicates that a failure has occurred that will effect engine performance and emissions. Contact an MG Authorised Repairer as soon as possible. Check Engine Indicates that a failure has occurred that may severely damage the engine. As soon as conditions permit, safely stop the vehicle , switch off the engine and contact an MG Authorised Repairer immediately.'), Document(metadata={'source': '/content/mg-zs-warning-messages.html'}, page_content='Warning Message Procedure Stop Start System Fault Indicates that the Stop/Start intelligent fuel saving system has detected a fault. Please consult an MG Authorised Repairer as soon as possible. Clutch Switch Fault Indicates that the clutch switch has detected a fault. Please consult an MG Authorised Repairer as soon as possible. Gasoline Particular Filter Full Indicates that the gasoline particular filter is full. Please consult an MG Authorised Repairer as soon as possible. Ignition System Fault Indicates that the ignition system has detected a fault. Please consult an MG Authorised Repairer immediately.'), Document(metadata={'source': '/content/mg-zs-warning-messages.html'}, page_content='Warning Message Procedure Start Stop Button Fault Indicates that the Start Stop button has detected a fault. Please consult an MG Authorised Repairer immediately. Passive Entry Fault Indicates that the passive keyless entry (PKE) function has detected a fault. Please consult an MG Authorised Repairer as soon as possible. ABS Fault Indicates that the anti-lock brake system (ABS) has failed and the ABS function is about to be disabled. Please consult an MG Authorised Repairer immediately.'), Document(metadata={'source': '/content/mg-zs-warning-messages.html'}, page_content='Warning Message Procedure Brake Fault Indicates that the brake fluid could be low or a fault has been detected in the Electronic Brake-force Distribution (EBD) system. As soon as safety permits, stop the car, switch off the engine and check the brake fluid level. Contact an MG Authorised Repairer as soon as possible. Stability Control Fault Indicates that the stability control system has detected a fault. Please consult an MG Authorised Repairer immediately. Traction Control Fault Indicates that the traction control system has detected a fault. Please consult an MG Authorised Repairer immediately.'), Document(metadata={'source': '/content/mg-zs-warning-messages.html'}, page_content='Warning Message Procedure EPB System Fault Indicates that the electronic parking brake system (EPB) has detected a fault. Please consult an MG Authorised Repairer as soon as possible. Park Brake Force Not Enough Indicates that there is an issue with the electronic parking brake, it may not be able to provide adequate clamping force. Contact an MG Authorised Repairer as soon as possible. Autohold Fault Indicates that the Autohold System has detected a fault. Please consult an MG Authorised Repairer as soon as possible. Hill Descent Control Fault Indicates that the hill descent control system has detected a fault. Please consult an MG Authorised Repairer as soon as possible.'), Document(metadata={'source': '/content/mg-zs-warning-messages.html'}, page_content='Warning Message Procedure EPS Performance Reduced Indicates that the electric power steering system has a general failure and that the steering performance has been reduced. As soon as conditions permit, safely stop the vehicle and switch off the engine. After a short while, start the engine, drive the vehicle a short distance and monitor the operation of the steering, if the message is still displayed or the steering assistance reduced please contact an MG Authorised Repairer immediately. EPS Assistance Failure Indicates that the electric power steering system has failed. Please consult an MG Authorised Repairer immediately.'), Document(metadata={'source': '/content/mg-zs-warning-messages.html'}, page_content='Warning Message Procedure Steering Angle Fault Indicates that the steering angle sensor has failed. Please consult an MG Authorised Repairer as soon as possible. Steering Angle Uncalibrated Indicates that the steering angle sensor is not calibrated. Please consult an MG Authorised Repairer as soon as possible. ESCL Fault Indicates that a fault has been detected with the Electronic Steering Column Lock (ESCL). As soon as conditions permit, safely stop the vehicle and switch off the engine. Contact an MG Authorised Repairer as soon as possible. Fuel Sensor Fault Indicates that fuel sensor has detected a fault. Please consult an MG Authorised Repairer as soon as possible.'), Document(metadata={'source': '/content/mg-zs-warning-messages.html'}, page_content='Warning Message Procedure Airbag Fault Indicates that the Airbag system has detected a fault. As soon as conditions permit, safely stop the vehicle and switch off the engine and contact an MG Authorised Repairer immediately. Front Left/Front Right/Rear Left/Rear Right Tyre Sensor Battery Low Indicates that the Tyre Pressure Monitoring system has detected that a tyre pressure sensor has a low battery. Please consult an MG Authorised Repairer as soon as possible. TPMS Fault Indicates that the tyre pressure monitoring system has detected a fault. Please consult an MG Authorised Repairer as soon as possible.\\n\\nWarning Message Procedure 12V Battery Charging System Fault Indicates that the 12V battery charging system has failed. Please consult an MG Authorised Repairer immediately. Rear Drive Assist System Fault Indicates that the rear drive assist system (RDA) has detected a fault. Please consult an MG Authorised Repairer as soon as possible.')]\n"
          ]
        }
      ]
    },
    {
      "cell_type": "code",
      "source": [
        "car_docs[0].page_content"
      ],
      "metadata": {
        "colab": {
          "base_uri": "https://localhost:8080/",
          "height": 174
        },
        "id": "O2ROefBkVzFD",
        "outputId": "6c2749c4-12bb-46ae-e563-bb18ad72024b"
      },
      "execution_count": 35,
      "outputs": [
        {
          "output_type": "execute_result",
          "data": {
            "text/plain": [
              "'Warning Message Procedure Cruise Control Fault Indicates that the cruise control system has detected a fault. Please consult an MG Authorised Repairer as soon as possible. Active Speed Limiter Fault Indicates that the active speed limit system has detected a fault. Contact an MG Authorised Repairer as soon as possible. Engine Coolant Temperature High High engine coolant temperature could result in severe damage. As soon as conditions permit, safely stop the vehicle and switch off the engine and contact an MG Authorised Repairer immediately. Engine Coolant Temperature Sensor Fault Indicates that the engine coolant temperature sensor has failed. As soon as conditions permit, safely stop the vehicle and switch off the engine and contact an MG Authorised Repairer immediately.\\n\\nWarning Message Procedure Low Oil Pressure Indicates that the oil pressure is too low, which may result in severe engine damage. As soon as safety permits, stop the car, switch off the engine and check the engine oil level. Contact an MG Authorised Repairer as soon as possible. Engine Fault Indicates that a failure has occurred that will effect engine performance and emissions. Contact an MG Authorised Repairer as soon as possible. Check Engine Indicates that a failure has occurred that may severely damage the engine. As soon as conditions permit, safely stop the vehicle , switch off the engine and contact an MG Authorised Repairer immediately.\\n\\nWarning Message Procedure Stop Start System Fault Indicates that the Stop/Start intelligent fuel saving system has detected a fault. Please consult an MG Authorised Repairer as soon as possible. Clutch Switch Fault Indicates that the clutch switch has detected a fault. Please consult an MG Authorised Repairer as soon as possible. Gasoline Particular Filter Full Indicates that the gasoline particular filter is full. Please consult an MG Authorised Repairer as soon as possible. Ignition System Fault Indicates that the ignition system has detected a fault. Please consult an MG Authorised Repairer immediately.\\n\\nWarning Message Procedure Start Stop Button Fault Indicates that the Start Stop button has detected a fault. Please consult an MG Authorised Repairer immediately. Passive Entry Fault Indicates that the passive keyless entry (PKE) function has detected a fault. Please consult an MG Authorised Repairer as soon as possible. ABS Fault Indicates that the anti-lock brake system (ABS) has failed and the ABS function is about to be disabled. Please consult an MG Authorised Repairer immediately.\\n\\nWarning Message Procedure Brake Fault Indicates that the brake fluid could be low or a fault has been detected in the Electronic Brake-force Distribution (EBD) system. As soon as safety permits, stop the car, switch off the engine and check the brake fluid level. Contact an MG Authorised Repairer as soon as possible. Stability Control Fault Indicates that the stability control system has detected a fault. Please consult an MG Authorised Repairer immediately. Traction Control Fault Indicates that the traction control system has detected a fault. Please consult an MG Authorised Repairer immediately.\\n\\nWarning Message Procedure EPB System Fault Indicates that the electronic parking brake system (EPB) has detected a fault. Please consult an MG Authorised Repairer as soon as possible. Park Brake Force Not Enough Indicates that there is an issue with the electronic parking brake, it may not be able to provide adequate clamping force. Contact an MG Authorised Repairer as soon as possible. Autohold Fault Indicates that the Autohold System has detected a fault. Please consult an MG Authorised Repairer as soon as possible. Hill Descent Control Fault Indicates that the hill descent control system has detected a fault. Please consult an MG Authorised Repairer as soon as possible.\\n\\nWarning Message Procedure EPS Performance Reduced Indicates that the electric power steering system has a general failure and that the steering performance has been reduced. As soon as conditions permit, safely stop the vehicle and switch off the engine. After a short while, start the engine, drive the vehicle a short distance and monitor the operation of the steering, if the message is still displayed or the steering assistance reduced please contact an MG Authorised Repairer immediately. EPS Assistance Failure Indicates that the electric power steering system has failed. Please consult an MG Authorised Repairer immediately.\\n\\nWarning Message Procedure Steering Angle Fault Indicates that the steering angle sensor has failed. Please consult an MG Authorised Repairer as soon as possible. Steering Angle Uncalibrated Indicates that the steering angle sensor is not calibrated. Please consult an MG Authorised Repairer as soon as possible. ESCL Fault Indicates that a fault has been detected with the Electronic Steering Column Lock (ESCL). As soon as conditions permit, safely stop the vehicle and switch off the engine. Contact an MG Authorised Repairer as soon as possible. Fuel Sensor Fault Indicates that fuel sensor has detected a fault. Please consult an MG Authorised Repairer as soon as possible.\\n\\nWarning Message Procedure Airbag Fault Indicates that the Airbag system has detected a fault. As soon as conditions permit, safely stop the vehicle and switch off the engine and contact an MG Authorised Repairer immediately. Front Left/Front Right/Rear Left/Rear Right Tyre Sensor Battery Low Indicates that the Tyre Pressure Monitoring system has detected that a tyre pressure sensor has a low battery. Please consult an MG Authorised Repairer as soon as possible. TPMS Fault Indicates that the tyre pressure monitoring system has detected a fault. Please consult an MG Authorised Repairer as soon as possible.\\n\\nWarning Message Procedure 12V Battery Charging System Fault Indicates that the 12V battery charging system has failed. Please consult an MG Authorised Repairer immediately. Rear Drive Assist System Fault Indicates that the rear drive assist system (RDA) has detected a fault. Please consult an MG Authorised Repairer as soon as possible.'"
            ],
            "application/vnd.google.colaboratory.intrinsic+json": {
              "type": "string"
            }
          },
          "metadata": {},
          "execution_count": 35
        }
      ]
    },
    {
      "cell_type": "markdown",
      "source": [
        "## 2. Armazenamento das representações vetoriais (embeddings)\n",
        "\n",
        "Com os dados chunckerizados (dividindos em partes), partimos para opara armazenamento e o ingestão em um banco de dados vetorial do Chroma.\n",
        "\n",
        "\n",
        "Definindo um prompt tenplate para conectar os documentos recuperados e a entrada do usuário e criando uma cadeia de recuperação para que o LLM acesse esses dados externos."
      ],
      "metadata": {
        "id": "h5EyUHbnfskh"
      }
    },
    {
      "cell_type": "code",
      "source": [
        "openai_api_key = os.getenv(\"OPENAI_API_KEY\")"
      ],
      "metadata": {
        "id": "hUP-EGQqgXH0"
      },
      "execution_count": 41,
      "outputs": []
    },
    {
      "cell_type": "code",
      "source": [
        "# Incorpore os documentos em um banco de dados vetorial Chroma persistente\n",
        "embedding_function = OpenAIEmbeddings(openai_api_key=openai_api_key)\n",
        "vectorstore = Chroma.from_documents(\n",
        "    docs,\n",
        "    embedding=embedding_function,\n",
        "    persist_directory=os.getcwd()\n",
        ")"
      ],
      "metadata": {
        "id": "6SQ1E46afsKV"
      },
      "execution_count": 62,
      "outputs": []
    },
    {
      "cell_type": "markdown",
      "source": [
        "## 3. Criação do recuperador (retriever)"
      ],
      "metadata": {
        "id": "_tF4u93yraBj"
      }
    },
    {
      "cell_type": "code",
      "source": [
        "# Configure o armazenamento vetorial como um recuperador\n",
        "retriever = vectorstore.as_retriever(\n",
        "    search_type=\"similarity\",\n",
        "    search_kwargs={\"k\":3}\n",
        ")"
      ],
      "metadata": {
        "id": "FwXaesOwrcPO"
      },
      "execution_count": 63,
      "outputs": []
    },
    {
      "cell_type": "markdown",
      "source": [
        "## 4. Inicialize o LLM e o prompt template\n"
      ],
      "metadata": {
        "id": "J96HxvFTilDu"
      }
    },
    {
      "cell_type": "code",
      "source": [
        "# Definindo o modelo llm\n",
        "llm = ChatOpenAI(model_name=\"gpt-4o\", temperature=0, openai_api_key=openai_api_key)"
      ],
      "metadata": {
        "id": "42-SORLhrIqC"
      },
      "execution_count": 64,
      "outputs": []
    },
    {
      "cell_type": "code",
      "source": [
        "#Criando um prompt template\n",
        "prompt_template =PromptTemplate( template = \"\"\"\n",
        "Você é um assistente para tarefas de perguntas e respostas.\n",
        "Utilize os seguintes trechos do retrieved context para responder à pergunta.\n",
        "Se não souber a resposta, diga apenas que não sabe.\n",
        "Use no máximo três frases e mantenha a resposta concisa.\n",
        "{context}\n",
        "\n",
        "Question: {question}\n",
        "\"\"\",input_variable = ['context', 'question'] )"
      ],
      "metadata": {
        "id": "RypwtmOokuTI"
      },
      "execution_count": 73,
      "outputs": []
    },
    {
      "cell_type": "markdown",
      "source": [
        "## 5. Defina a cadeia RAG\n"
      ],
      "metadata": {
        "id": "HVd7rv-2rSQ7"
      }
    },
    {
      "cell_type": "code",
      "source": [
        "# Crie uma cadeia para vincular o recuperador (retriever), o prompt template e o modelo llm\n",
        "rag_chain = ({\"context\": retriever, \"question\": RunnablePassthrough()}\n",
        "            | prompt_template\n",
        "            | llm)\n"
      ],
      "metadata": {
        "id": "lNZVfF5WiXYh"
      },
      "execution_count": 74,
      "outputs": []
    },
    {
      "cell_type": "markdown",
      "source": [
        "## 6. Execute a cadeia RAG"
      ],
      "metadata": {
        "id": "Qgti7_g1rVbG"
      }
    },
    {
      "cell_type": "code",
      "source": [
        "# Converse com o RAG\n",
        "response_1 = rag_chain.invoke(\"O que devo fazer se a mensagem 'Engine Coolant Temperature High' aparecer no painel do meu carro?\")\n",
        "response_2 = rag_chain.invoke(\"Como devo reagir se a luz de advertência 'Low Oil Pressure' acender no painel?\")\n",
        "response_3 = rag_chain.invoke(\"O que significa a mensagem 'ABS Fault' e o que devo fazer?\")\n"
      ],
      "metadata": {
        "id": "HEOqMN-LgqGJ"
      },
      "execution_count": 75,
      "outputs": []
    },
    {
      "cell_type": "code",
      "source": [
        "response_1.content"
      ],
      "metadata": {
        "colab": {
          "base_uri": "https://localhost:8080/",
          "height": 53
        },
        "id": "6blNP57CqPVw",
        "outputId": "d17f3305-a52e-4f80-e220-9386f58f19c1"
      },
      "execution_count": 76,
      "outputs": [
        {
          "output_type": "execute_result",
          "data": {
            "text/plain": [
              "\"Se a mensagem 'Engine Coolant Temperature High' aparecer no painel do seu carro, você deve parar o veículo em segurança assim que possível, desligar o motor e contatar imediatamente um reparador autorizado da MG.\""
            ],
            "application/vnd.google.colaboratory.intrinsic+json": {
              "type": "string"
            }
          },
          "metadata": {},
          "execution_count": 76
        }
      ]
    },
    {
      "cell_type": "code",
      "source": [
        "response_2.content"
      ],
      "metadata": {
        "colab": {
          "base_uri": "https://localhost:8080/",
          "height": 70
        },
        "id": "IVj9U83vqjgh",
        "outputId": "f2669f44-4348-4d24-c431-94f96ca99ab8"
      },
      "execution_count": 71,
      "outputs": [
        {
          "output_type": "execute_result",
          "data": {
            "text/plain": [
              "\"Se a luz de advertência 'Low Oil Pressure' acender no painel, você deve, assim que for seguro, parar o carro, desligar o motor e verificar o nível de óleo do motor. Em seguida, entre em contato com um Reparador Autorizado MG o mais rápido possível.\""
            ],
            "application/vnd.google.colaboratory.intrinsic+json": {
              "type": "string"
            }
          },
          "metadata": {},
          "execution_count": 71
        }
      ]
    },
    {
      "cell_type": "code",
      "source": [
        "response_3.content"
      ],
      "metadata": {
        "colab": {
          "base_uri": "https://localhost:8080/",
          "height": 53
        },
        "id": "PKZK_yfCqwWJ",
        "outputId": "ae10675f-78aa-4cdd-ef8d-4f9fafab8c51"
      },
      "execution_count": 72,
      "outputs": [
        {
          "output_type": "execute_result",
          "data": {
            "text/plain": [
              "\"A mensagem 'ABS Fault' indica que o sistema de freio anti-bloqueio (ABS) falhou e a função ABS está prestes a ser desativada. Você deve consultar um reparador autorizado da MG imediatamente.\""
            ],
            "application/vnd.google.colaboratory.intrinsic+json": {
              "type": "string"
            }
          },
          "metadata": {},
          "execution_count": 72
        }
      ]
    }
  ]
}